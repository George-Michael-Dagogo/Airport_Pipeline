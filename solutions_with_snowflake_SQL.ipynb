{
 "cells": [
  {
   "attachments": {},
   "cell_type": "markdown",
   "metadata": {},
   "source": [
    "## Creating snowflake connection and pushing data "
   ]
  },
  {
   "cell_type": "code",
   "execution_count": 9,
   "metadata": {},
   "outputs": [],
   "source": [
    "from sqlalchemy import create_engine\n",
    "import pandas as pd\n",
    "\n",
    "\n",
    "engine = create_engine(\n",
    "    'snowflake://{user}:{password}@{account}/'.format(\n",
    "        user='',\n",
    "        password='',\n",
    "        account='',\n",
    "        warehouse='COMPUTE_WH',\n",
    "        database='MY_TEST', \n",
    "        schema='NEW'\n",
    "    )\n",
    ")\n",
    "sfOptions = {\n",
    "    \"sfURL\": \"https://lv50176.switzerland-north.azure.snowflakecomputing.com\",\n",
    "    \n",
    "    \"sfDatabase\": \"MY_TEST\",\n",
    "    \"sfSchema\": \"NEW\",\n",
    "    \"sfWarehouse\": \"COMPUTE_WH\",\n",
    "}\n",
    "try:\n",
    "    connection = engine.connect()\n",
    "    connection.execute('USE ROLE ACCOUNTADMIN')\n",
    "    connection.execute('USE DATABASE MY_TEST')\n",
    "    connection.execute('USE SCHEMA NEW')\n",
    "\n",
    "    #airports = pd.read_csv('/workspace/Airport_Pipeline/Airport_data/airports.csv')\n",
    "    #airports.to_sql('airports', con=connection, if_exists='replace',index = False,chunksize=16000)   \n",
    "\n",
    "    #airport_frequencies = pd.read_csv('/workspace/Airport_Pipeline/Airport_data/airport-frequencies.csv')\n",
    "    #airport_frequencies.to_sql('airport_frequencies', con=connection, if_exists='replace',index = False,chunksize=16000) \n",
    "\n",
    "    #countries = pd.read_csv('/workspace/Airport_Pipeline/Airport_data/countries.csv')\n",
    "    #countries.to_sql('countries', con=connection, if_exists='replace',index = False,chunksize=16000)\n",
    "\n",
    "    #airport_comments = pd.read_csv('/workspace/Airport_Pipeline/Airport_data/airport-comments.csv')\n",
    "    #airport_comments.to_sql('airport_comments', con=connection, if_exists='replace',index = False,chunksize=16000)\n",
    "\n",
    "    #navaids = pd.read_csv('/workspace/Airport_Pipeline/Airport_data/navaids.csv')\n",
    "    #navaids.to_sql('navaids', con=connection, if_exists='replace',index = False,chunksize=16000)\n",
    "\n",
    "    #regions = pd.read_csv('/workspace/Airport_Pipeline/Airport_data/regions.csv')\n",
    "    #regions.to_sql('regions', con=connection, if_exists='replace',index = False,chunksize=16000)\n",
    "\n",
    "    #runways = pd.read_csv('/workspace/Airport_Pipeline/Airport_data/runways.csv')\n",
    "    #runways.to_sql('runways', con=connection, if_exists='replace',index = False,chunksize=16000)\n",
    "\n",
    "    connection.execute('PUT file://../Airport_Pipeline/Geonames_data/all_countries.csv @~;')\n",
    "    connection.execute('''COPY INTO geonames FROM @~ FILE_FORMAT = (TYPE = CSV, SKIP_HEADER = 1) ON_ERROR=CONTINUE;''')\n",
    "    \n",
    "\n",
    "finally:\n",
    "    connection.close()\n",
    "    engine.dispose()\n",
    "    \n",
    "    "
   ]
  },
  {
   "attachments": {},
   "cell_type": "markdown",
   "metadata": {},
   "source": [
    "### 1. Basic Cleaning and Creating Views in Snowflake "
   ]
  },
  {
   "cell_type": "code",
   "execution_count": 1,
   "metadata": {},
   "outputs": [
    {
     "name": "stderr",
     "output_type": "stream",
     "text": [
      "/tmp/ipykernel_1124/1997850078.py:17: RemovedIn20Warning: Deprecated API features detected! These feature(s) are not compatible with SQLAlchemy 2.0. To prevent incompatible upgrades prior to updating applications, ensure requirements files are pinned to \"sqlalchemy<2.0\". Set environment variable SQLALCHEMY_WARN_20=1 to show all deprecation warnings.  Set environment variable SQLALCHEMY_SILENCE_UBER_WARNING=1 to silence this message. (Background on SQLAlchemy 2.0 at: https://sqlalche.me/e/b8d9)\n",
      "  connection.execute('USE ROLE ACCOUNTADMIN')\n"
     ]
    },
    {
     "name": "stdout",
     "output_type": "stream",
     "text": [
      "           name  elevation\n",
      "0  GreenSite HQ     3200.0\n"
     ]
    }
   ],
   "source": [
    "from sqlalchemy import create_engine\n",
    "import pandas as pd\n",
    "\n",
    "\n",
    "engine = create_engine(\n",
    "    'snowflake://{user}:{password}@{account}/'.format(\n",
    "        user='GEORGE9042',\n",
    "        password='George9042',\n",
    "        account='plninim-tg58176',\n",
    "        warehouse='COMPUTE_WH',\n",
    "        database='MY_TEST', \n",
    "        schema='NEW'\n",
    "    )\n",
    ")\n",
    "try:\n",
    "    connection = engine.connect()\n",
    "    connection.execute('USE ROLE ACCOUNTADMIN')\n",
    "    connection.execute('USE DATABASE MY_TEST')\n",
    "    connection.execute('USE SCHEMA NEW')\n",
    "    clean_continent = '''UPDATE airports SET CONTINENT = COALESCE(CONTINENT, 'NA')'''\n",
    "    clean_country = '''UPDATE airports SET iso_country = COALESCE(iso_country, 'NA')'''\n",
    "\n",
    "    query_continent = '''select * from airport_per_continent'''\n",
    "    query_continent = pd.read_sql(query_continent,connection)\n",
    "\n",
    "    query_avg_air_ele = '''select * from AVG_AIRPORT_ELEVATION_COUNTRY'''\n",
    "    query_avg_air_ele = pd.read_sql(query_avg_air_ele,connection)\n",
    "\n",
    "    min_max_ele = '''select * from MAX_MIN_ELEVATION''' \n",
    "    min_max_ele= pd.read_sql(min_max_ele,connection)\n",
    "    \n",
    "    query_country='''select * from airport_per_country '''\n",
    "    query_country = pd.read_sql(query_country,connection)\n",
    "\n",
    "    total_population_country = '''select * from total_population_country'''\n",
    "    total_population_country = pd.read_sql(total_population_country,connection)\n",
    "\n",
    "    city_towns_with_airport = '''select * from city_towns_with_airport'''\n",
    "    city_towns_with_airport = pd.read_sql(city_towns_with_airport,connection)\n",
    "\n",
    "    city_towns_with_geoname = '''select * from city_towns_with_geoname'''\n",
    "    city_towns_with_geoname = pd.read_sql(city_towns_with_geoname,connection)\n",
    "\n",
    "    min_max_avg_city_elevation = '''select * from min_max_avg_city_elevation'''\n",
    "    min_max_avg_city_elevation = pd.read_sql(min_max_avg_city_elevation,connection)\n",
    "\n",
    "    lowest_elevation_city = '''select * from lowest_elevated_city'''\n",
    "    lowest_elevation_city = pd.read_sql(lowest_elevation_city,connection)\n",
    "\n",
    "    highest_elevation_city = '''select * from highest_elevated_city'''\n",
    "    highest_elevation_city = pd.read_sql(highest_elevation_city,connection)\n",
    "\n",
    "    print(highest_elevation_city)\n",
    "    \n",
    "finally:\n",
    "    connection.close()\n",
    "    engine.dispose()"
   ]
  },
  {
   "attachments": {},
   "cell_type": "markdown",
   "metadata": {},
   "source": [
    "### 1.1 How many airports, airfields and heliports exist in each country?"
   ]
  },
  {
   "cell_type": "code",
   "execution_count": 2,
   "metadata": {},
   "outputs": [
    {
     "name": "stdout",
     "output_type": "stream",
     "text": [
      "    iso_country  airports  heliport  airfield\n",
      "0            US      1496      7820     14860\n",
      "1            IR        63        84       106\n",
      "2            TM         7        24        16\n",
      "3            VA         0         1         0\n",
      "4            IN       128       273       174\n",
      "..          ...       ...       ...       ...\n",
      "240          GG         2         0         0\n",
      "241          IE        12         5        83\n",
      "242          SZ         2         0        14\n",
      "243          GM         1         0         0\n",
      "244          GW         1         0         6\n",
      "\n",
      "[245 rows x 4 columns]\n"
     ]
    }
   ],
   "source": [
    "print(query_country)"
   ]
  },
  {
   "attachments": {},
   "cell_type": "markdown",
   "metadata": {},
   "source": [
    "### 1.2 How many airports, airfields and heliports exist in each continent?"
   ]
  },
  {
   "cell_type": "code",
   "execution_count": 3,
   "metadata": {},
   "outputs": [
    {
     "name": "stdout",
     "output_type": "stream",
     "text": [
      "  continent  airports  heliport  airfield\n",
      "0        EU      1065      1714      5679\n",
      "1        AN         5         9        25\n",
      "2        SA       434      2152      7312\n",
      "3        AS      1483      5712      2587\n",
      "4        NA      2487      8805     17931\n",
      "5        AF       517       209      3056\n",
      "6        OC       353       479      2829\n"
     ]
    }
   ],
   "source": [
    "print(query_continent)"
   ]
  },
  {
   "attachments": {},
   "cell_type": "markdown",
   "metadata": {},
   "source": [
    "### 2. What is the average elevation of the airports, airfields and heliports in each country? "
   ]
  },
  {
   "cell_type": "code",
   "execution_count": 4,
   "metadata": {},
   "outputs": [
    {
     "name": "stdout",
     "output_type": "stream",
     "text": [
      "    iso_country  avg_airport_elevation  avg_airfield_elevation   \n",
      "0            JP             211.122642              418.512500  \\\n",
      "1            US             956.863636             1356.796806   \n",
      "2            TZ            2414.500000             3389.411392   \n",
      "3            KG            3177.833333             3882.882353   \n",
      "4            KH              53.750000              148.250000   \n",
      "..          ...                    ...                     ...   \n",
      "240          GG             313.000000                     NaN   \n",
      "241          IE             198.333333              200.029412   \n",
      "242          SZ            1583.500000             1150.000000   \n",
      "243          GM              95.000000                     NaN   \n",
      "244          GW             129.000000              166.600000   \n",
      "\n",
      "     avg_heliport_elevation  \n",
      "0                734.636060  \n",
      "1               1068.861724  \n",
      "2                       NaN  \n",
      "3               9452.000000  \n",
      "4                203.000000  \n",
      "..                      ...  \n",
      "240                     NaN  \n",
      "241              107.000000  \n",
      "242                     NaN  \n",
      "243                     NaN  \n",
      "244                     NaN  \n",
      "\n",
      "[245 rows x 4 columns]\n"
     ]
    }
   ],
   "source": [
    "print(query_avg_air_ele)"
   ]
  },
  {
   "attachments": {},
   "cell_type": "markdown",
   "metadata": {},
   "source": [
    "### 3. What is the estimated population of each country?"
   ]
  },
  {
   "cell_type": "code",
   "execution_count": 5,
   "metadata": {},
   "outputs": [
    {
     "name": "stdout",
     "output_type": "stream",
     "text": [
      "     total_population country_code\n",
      "0              629735           HR\n",
      "1             2253257           HU\n",
      "2              910500           IQ\n",
      "3                4866           JE\n",
      "4              887412           JP\n",
      "..                ...          ...\n",
      "246                 0           PN\n",
      "247             38556           ME\n",
      "248            620329           MQ\n",
      "249            332188           MU\n",
      "250             51900           MV\n",
      "\n",
      "[251 rows x 2 columns]\n"
     ]
    }
   ],
   "source": [
    "print(total_population_country)"
   ]
  },
  {
   "attachments": {},
   "cell_type": "markdown",
   "metadata": {},
   "source": [
    "### 4. How many cities/towns/settlements in each country?"
   ]
  },
  {
   "cell_type": "code",
   "execution_count": 6,
   "metadata": {},
   "outputs": [
    {
     "name": "stdout",
     "output_type": "stream",
     "text": [
      "     city_towns_using_geoname country_code\n",
      "0                     1191956           US\n",
      "1                      417409           IN\n",
      "2                      256697           ID\n",
      "3                      208489           CA\n",
      "4                      197747           NO\n",
      "..                        ...          ...\n",
      "246                        51           BL\n",
      "247                        49           IO\n",
      "248                        30           PN\n",
      "249                        22           CC\n",
      "250                         6           BV\n",
      "\n",
      "[251 rows x 2 columns]\n"
     ]
    }
   ],
   "source": [
    "print(city_towns_with_geoname)"
   ]
  },
  {
   "attachments": {},
   "cell_type": "markdown",
   "metadata": {},
   "source": [
    "### 5. What is the min, max and average elevation of the cities per country?"
   ]
  },
  {
   "cell_type": "code",
   "execution_count": 7,
   "metadata": {},
   "outputs": [
    {
     "name": "stdout",
     "output_type": "stream",
     "text": [
      "     minimum_elevation  maximum_elevation  average_elevation country_code\n",
      "0                  0.0             2655.0            1124.93           AD\n",
      "1                  0.0             1676.0             423.74           AE\n",
      "2                294.0             6513.0            2242.33           AF\n",
      "3                365.0              565.0             465.00           AG\n",
      "4                 11.0             2083.0            1029.63           AL\n",
      "..                 ...                ...                ...          ...\n",
      "221                2.0             3079.0             873.54           YE\n",
      "222                0.0             3275.0             843.79           ZA\n",
      "223             1035.0             1384.0            1251.18           ZM\n",
      "224              230.0             2991.0            1247.21           ZW\n",
      "225            -4800.0             3189.0              55.54         None\n",
      "\n",
      "[226 rows x 4 columns]\n"
     ]
    }
   ],
   "source": [
    "print(min_max_avg_city_elevation)"
   ]
  },
  {
   "attachments": {},
   "cell_type": "markdown",
   "metadata": {},
   "source": [
    "### 6. Which are the highest and lowest elevated cities in the world with populations > 100000? "
   ]
  },
  {
   "cell_type": "code",
   "execution_count": 8,
   "metadata": {},
   "outputs": [
    {
     "name": "stdout",
     "output_type": "stream",
     "text": [
      "              name  elevation\n",
      "0  Town of Babylon        0.0\n",
      "           name  elevation\n",
      "0  GreenSite HQ     3200.0\n"
     ]
    }
   ],
   "source": [
    "print(lowest_elevation_city)\n",
    "\n",
    "print(highest_elevation_city)"
   ]
  },
  {
   "attachments": {},
   "cell_type": "markdown",
   "metadata": {},
   "source": [
    "### 7. Which are the highest and lowest elevated airports, airfields and heliports on the planet?"
   ]
  },
  {
   "cell_type": "code",
   "execution_count": 9,
   "metadata": {},
   "outputs": [
    {
     "name": "stdout",
     "output_type": "stream",
     "text": [
      "             type  highest_elevation  lowest_elevation\n",
      "0   seaplane_base               6534                -1\n",
      "1     balloonport               5624                 4\n",
      "2  medium_airport              14472             -1266\n",
      "3        heliport              17372              -117\n",
      "4   small_airport              16200              -210\n",
      "5   large_airport              10860               -11\n",
      "6          closed              14809              -223\n"
     ]
    }
   ],
   "source": [
    "print(min_max_ele)"
   ]
  },
  {
   "attachments": {},
   "cell_type": "markdown",
   "metadata": {},
   "source": [
    "## Creating Snowflake Tables"
   ]
  },
  {
   "cell_type": "code",
   "execution_count": null,
   "metadata": {},
   "outputs": [],
   "source": [
    "create or replace TABLE MY_TEST.NEW.AIRPORT_COMMENTS (\n",
    "\tID NUMBER(38,0),\n",
    "\tthreadRef FLOAT,\n",
    "\tairportRef NUMBER(38,0),\n",
    "\tairportIdent VARCHAR(16777216),\n",
    "\tdate VARCHAR(16777216),\n",
    "\tmemberNickname VARCHAR(16777216),\n",
    "\tsubject VARCHAR(16777216),\n",
    "\tbody VARCHAR(16777216),\n",
    "    PRIMARY KEY (ID)\n",
    ");\n",
    "\n",
    "create or replace TABLE MY_TEST.NEW.AIRPORTS (\n",
    "\tID NUMBER(38,0) NOT NULL,\n",
    "\tIDENT VARCHAR(16777216),\n",
    "\tTYPE VARCHAR(16777216),\n",
    "\tNAME VARCHAR(16777216),\n",
    "\tLATITUDE_DEG FLOAT,\n",
    "\tLONGITUDE_DEG FLOAT,\n",
    "\tELEVATION_FT NUMBER(38,0),\n",
    "\tCONTINENT VARCHAR(16777216),\n",
    "\tISO_COUNTRY VARCHAR(16777216),\n",
    "\tISO_REGION VARCHAR(16777216),\n",
    "\tMUNICIPALITY VARCHAR(16777216),\n",
    "\tSCHEDULED_SERVICE VARCHAR(16777216),\n",
    "\tGPS_CODE VARCHAR(16777216),\n",
    "\tIATA_CODE VARCHAR(16777216),\n",
    "\tLOCAL_CODE VARCHAR(16777216),\n",
    "\tHOME_LINK VARCHAR(16777216),\n",
    "\tWIKIPEDIA_LINK VARCHAR(16777216),\n",
    "\tKEYWORDS VARCHAR(16777216),\n",
    "\tprimary key (ID),\n",
    "\tforeign key (ISO_REGION) references MY_TEST.NEW.REGIONS(CODE)\n",
    ");\n",
    "\n",
    "create or replace TABLE MY_TEST.NEW.RUNWAYS (\n",
    "\tID NUMBER(38,0) NOT NULL,\n",
    "\tAIRPORT_REF NUMBER(38,0),\n",
    "\tAIRPORT_IDENT VARCHAR(16777216),\n",
    "\tLENGTH_FT FLOAT,\n",
    "\tWIDTH_FT FLOAT,\n",
    "\tSURFACE VARCHAR(16777216),\n",
    "\tLIGHTED BOOLEAN,\n",
    "\tCLOSED BOOLEAN,\n",
    "\tLE_IDENT VARCHAR(16777216),\n",
    "\tLE_LATITUDE_DEG FLOAT,\n",
    "\tLE_LONGITUDE_DEG FLOAT,\n",
    "\tLE_ELEVATION_FT NUMBER(38,0),\n",
    "\tLE_HEADING_DEGT FLOAT,\n",
    "\tLE_DISPLACED_THRESHOLD_FT NUMBER(38,0),\n",
    "\tHE_IDENT VARCHAR(16777216),\n",
    "\tHE_LATITUDE_DEG FLOAT,\n",
    "\tHE_LONGITUDE_DEG FLOAT,\n",
    "\tHE_ELEVATION_FT NUMBER(38,0),\n",
    "\tHE_HEADING_DEGT FLOAT,\n",
    "\tHE_DISPLACED_THRESHOLD_FT NUMBER(38,0),\n",
    "\tprimary key (ID),\n",
    "\tforeign key (AIRPORT_REF) references MY_TEST.NEW.AIRPORTS(ID)\n",
    ");\n",
    "\n",
    "create or replace TABLE MY_TEST.NEW.REGIONS (\n",
    "\tCODE VARCHAR(16777216) NOT NULL,\n",
    "\tLOCAL_CODE VARCHAR(16777216),\n",
    "\tISO_COUNTRY VARCHAR(16777216),\n",
    "\tNAME VARCHAR(16777216),\n",
    "\tCONTINENT VARCHAR(16777216),\n",
    "\tprimary key (CODE)\n",
    ");\n",
    "\n",
    "create or replace TABLE MY_TEST.NEW.NAVAIDS (\n",
    "\tID_NAV NUMBER(38,0) NOT NULL,\n",
    "\tFILENAME VARCHAR(16777216),\n",
    "\tIDENT VARCHAR(16777216),\n",
    "\tNAME VARCHAR(16777216),\n",
    "\tTYPE VARCHAR(16777216),\n",
    "\tFREQUENCY_KHZ FLOAT,\n",
    "\tLATITUDE_DEG FLOAT,\n",
    "\tLONGITUDE_DEG FLOAT,\n",
    "\tELEVATION_FT NUMBER(38,0),\n",
    "\tISO_COUNTRY VARCHAR(16777216),\n",
    "\tDME_FREQUENCY_KHZ FLOAT,\n",
    "\tDME_CHANNEL NUMBER(38,0),\n",
    "\tDME_LATITUDE_DEG FLOAT,\n",
    "\tDME_LONGITUDE_DEG FLOAT,\n",
    "\tDME_ELEVATION_FT NUMBER(38,0),\n",
    "\tSLAVED_VARIATION_DEG FLOAT,\n",
    "\tMAGNETIC_VARIATION_DEG FLOAT,\n",
    "\tUSAGE_TYPE VARCHAR(16777216),\n",
    "\tPOWER FLOAT,\n",
    "\tASSOCIATED_AIRPORT VARCHAR(16777216),\n",
    "\tASSOCIATED_AIRPORT_IDENT VARCHAR(16777216),\n",
    "\tprimary key (ID_NAV)\n",
    ");\n",
    "\n",
    "create or replace TABLE MY_TEST.NEW.COUNTRIES (\n",
    "\tID NUMBER(38,0),\n",
    "\tCODE VARCHAR(16777216),\n",
    "\tNAME VARCHAR(16777216),\n",
    "\tCONTINENT VARCHAR(16777216),\n",
    "\tWIKIPEDIA_LINK VARCHAR(16777216),\n",
    "\tKEYWORDS VARCHAR(16777216)\n",
    "\tprimary key (ID)\n",
    ");\n",
    "\n",
    "create or replace TABLE MY_TEST.NEW.AIRPORT_COMMENTS (\n",
    "\tID NUMBER(38,0),\n",
    "\tthreadRef FLOAT,\n",
    "\tairportRef NUMBER(38,0),\n",
    "\tairportIdent VARCHAR(16777216),\n",
    "\tDATE VARCHAR(16777216),\n",
    "\tmemberNickname VARCHAR(16777216),\n",
    "\tSUBJECT VARCHAR(16777216),\n",
    "\tBODY VARCHAR(16777216)\\\n",
    "\tPRIMARY KEY (ID)\n",
    ");\n"
   ]
  },
  {
   "attachments": {},
   "cell_type": "markdown",
   "metadata": {},
   "source": [
    "### Views used in snowflake\n"
   ]
  },
  {
   "cell_type": "code",
   "execution_count": null,
   "metadata": {},
   "outputs": [],
   "source": [
    "airport_per_continent = '''create or replace view AIRPORT_PER_CONTINENT as\n",
    "    -- comment = '<comment>'\n",
    "    SELECT continent,    \n",
    "       COUNT(CASE WHEN type IN ('seaplane_base','medium_airport', 'large_airport') THEN 1 END) AS airports,\n",
    "       COUNT(CASE WHEN type = 'heliport' THEN 1 END) AS heliport,\n",
    "       COUNT(CASE WHEN type = 'small_airport' THEN 1 END) AS airfield       \n",
    "       FROM airports\n",
    "       GROUP BY continent;'''\n",
    "\n",
    "airport_per_country = '''create or replace view AIRPORT_PER_COUNTRY as\n",
    "SELECT iso_country,\n",
    "/* assumumes the small airport is an airfield*/\n",
    "       COUNT(CASE WHEN type IN ('seaplane_base','medium_airport', 'large_airport') THEN 1 END) AS airports,\n",
    "       COUNT(CASE WHEN type = 'heliport' THEN 1 END) AS heliport,\n",
    "       COUNT(CASE WHEN type = 'small_airport' THEN 1 END) AS airfield       \n",
    "       FROM airports\n",
    "       GROUP BY iso_country;'''\n",
    "\n",
    "\n",
    "min_max_elevation = '''create or replace view MY_TEST.NEW.MAX_MIN_ELEVATION(\n",
    "\tTYPE,\n",
    "\tHIGHEST_ELEVATION,\n",
    "\tLOWEST_ELEVATION\n",
    ") as\n",
    "SELECT type,\n",
    "       MAX(elevation_ft) AS highest_elevation,\n",
    "       MIN(elevation_ft) AS lowest_elevation\n",
    "FROM airports\n",
    "GROUP BY type;'''\n",
    "\n",
    "avg_airport_elevation = '''create or replace view MY_TEST.NEW.AVG_AIRPORT_ELEVATION_COUNTRY(\n",
    "\tISO_COUNTRY,\n",
    "\tAVG_AIRPORT_ELEVATION,\n",
    "\tAVG_AIRFIELD_ELEVATION,\n",
    "\tAVG_HELIPORT_ELEVATION\n",
    ") as\n",
    "SELECT iso_country,\n",
    "       AVG(CASE WHEN type IN ('seaplane_base','medium_airport', 'large_airport') THEN elevation_ft END) AS avg_airport_elevation,\n",
    "       AVG(CASE WHEN type = 'small_airport' THEN elevation_ft END) AS avg_airfield_elevation,\n",
    "       AVG(CASE WHEN type = 'heliport' THEN elevation_ft END) AS avg_heliport_elevation\n",
    "FROM airports\n",
    "GROUP BY iso_country;'''\n",
    "\n",
    "total_population_country = '''create or replace view MY_TEST.NEW.TOTAL_POPULATION_COUNTRY(\n",
    "\tTOTAL_POPULATION,\n",
    "\tCOUNTRY_CODE\n",
    ") as \n",
    "select sum(population) as total_population, country_code from geonames group by country_code;'''\n",
    "\n",
    "city_towns_with_airport = '''create or replace view MY_TEST.NEW.CITY_TOWNS_WITH_AIRPORT(\n",
    "\tCITY_TOWNS_USING_AIRPORT,\n",
    "\tISO_COUNTRY\n",
    ") as\n",
    "select count(distinct(municipality)) as city_towns_using_airport, iso_country from airports group by iso_country order by city_towns_using_airport desc;'''\n",
    "\n",
    "city_towns_with_geoname = '''create or replace view MY_TEST.NEW.CITY_TOWNS_WITH_GEONAME(\n",
    "\tCITY_TOWNS_USING_GEONAME,\n",
    "\tCOUNTRY_CODE\n",
    ") as\n",
    "select count(distinct(name)) as city_towns_using_geoname, country_code from geonames group by country_code order by city_towns_using_geoname desc;'''\n",
    "\n",
    "\n",
    "min_max_avg_city_elevation = '''create or replace view MY_TEST.NEW.MIN_MAX_AVG_CITY_ELEVATION(\n",
    "\tMINIMUM_ELEVATION,\n",
    "\tMAXIMUM_ELEVATION,\n",
    "\tAVERAGE_ELEVATION,\n",
    "\tCOUNTRY_CODE\n",
    ") as \n",
    "select min(elevation) as minimum_elevation,\n",
    "max(elevation) as maximum_elevation,\n",
    "ROUND(avg(elevation), 2)as average_elevation,\n",
    "country_code\n",
    "from geonames\n",
    "WHERE elevation IS NOT NULL\n",
    "group by country_code \n",
    "order by country_code;'''"
   ]
  }
 ],
 "metadata": {
  "kernelspec": {
   "display_name": "Python 3",
   "language": "python",
   "name": "python3"
  },
  "language_info": {
   "codemirror_mode": {
    "name": "ipython",
    "version": 3
   },
   "file_extension": ".py",
   "mimetype": "text/x-python",
   "name": "python",
   "nbconvert_exporter": "python",
   "pygments_lexer": "ipython3",
   "version": "3.11.1"
  },
  "orig_nbformat": 4
 },
 "nbformat": 4,
 "nbformat_minor": 2
}
